{
  "nbformat": 4,
  "nbformat_minor": 0,
  "metadata": {
    "colab": {
      "name": "M4_Enunciados Reto_evilla.ipynb",
      "provenance": [],
      "include_colab_link": true
    },
    "kernelspec": {
      "name": "python3",
      "display_name": "Python 3"
    }
  },
  "cells": [
    {
      "cell_type": "markdown",
      "metadata": {
        "id": "view-in-github",
        "colab_type": "text"
      },
      "source": [
        "<a href=\"https://colab.research.google.com/github/veg90/Python_Basics/blob/main/M4_Enunciados_Reto_evilla.ipynb\" target=\"_parent\"><img src=\"https://colab.research.google.com/assets/colab-badge.svg\" alt=\"Open In Colab\"/></a>"
      ]
    },
    {
      "cell_type": "markdown",
      "metadata": {
        "id": "ZbJ9DCTULFZr"
      },
      "source": [
        "**MÓDULO 4 - PLATAFORMAS DE VISUALIZACIÓN**\n",
        "\n",
        "---\n",
        "\n",
        "**SESIÓN: Aplica en el trabajo**"
      ]
    },
    {
      "cell_type": "markdown",
      "metadata": {
        "id": "oPjcEgo-OAlc"
      },
      "source": [
        "NOMBRE: ERICK JESUS VILLA GONZALEZ"
      ]
    },
    {
      "cell_type": "markdown",
      "metadata": {
        "id": "s2z5UWllJfaV"
      },
      "source": [
        "1.\tGenera una libreta en Google Colab para el reto, cuya estructura esté basada en los análisis solicitados."
      ]
    },
    {
      "cell_type": "code",
      "metadata": {
        "id": "eOVDmi-44VMK",
        "colab": {
          "base_uri": "https://localhost:8080/"
        },
        "outputId": "1fb4ba50-f950-4a13-800d-30104bce8e80"
      },
      "source": [
        "import pandas as pd\n",
        "import seaborn as sns\n",
        "import matplotlib.pyplot as plt\n",
        "from google.colab import drive\n",
        "drive.mount('/content/drive')"
      ],
      "execution_count": 1,
      "outputs": [
        {
          "output_type": "stream",
          "name": "stdout",
          "text": [
            "Mounted at /content/drive\n"
          ]
        }
      ]
    },
    {
      "cell_type": "markdown",
      "metadata": {
        "id": "dCXbtCcWJbi1"
      },
      "source": [
        "2.\tDescarga el archivo: Employees.csv y guarda, en un dataframe (`employees`), todos sus registros."
      ]
    },
    {
      "cell_type": "code",
      "metadata": {
        "id": "HPwqPSO-N5Mm"
      },
      "source": [
        "df_employees = pd.read_csv(\"/content/drive/MyDrive/Colab CSV Evilla/M4 Plataformas de visualizacion/DSA04 Reto/Employees.csv\") "
      ],
      "execution_count": 144,
      "outputs": []
    },
    {
      "cell_type": "markdown",
      "metadata": {
        "id": "X1pC0NlIJkni"
      },
      "source": [
        "3.\tObserva la estructura y contenido del dataframe con los atributos y métodos estudiados (`shape`, `columns`, `head()`, `dtypes`, `isna()`)"
      ]
    },
    {
      "cell_type": "code",
      "metadata": {
        "id": "Y5TX35DKN52M",
        "colab": {
          "base_uri": "https://localhost:8080/"
        },
        "outputId": "1fdefe2c-f9c7-4bac-98d9-00b8319574d4"
      },
      "source": [
        "df_employees.shape"
      ],
      "execution_count": 145,
      "outputs": [
        {
          "output_type": "execute_result",
          "data": {
            "text/plain": [
              "(7000, 17)"
            ]
          },
          "metadata": {},
          "execution_count": 145
        }
      ]
    },
    {
      "cell_type": "code",
      "source": [
        "df_employees.columns"
      ],
      "metadata": {
        "colab": {
          "base_uri": "https://localhost:8080/"
        },
        "id": "zQ11GMshq2nH",
        "outputId": "093bf3e1-1b5f-4113-bbb4-6ec005a142c6"
      },
      "execution_count": 146,
      "outputs": [
        {
          "output_type": "execute_result",
          "data": {
            "text/plain": [
              "Index(['Employee_ID', 'Gender', 'Age', 'Education_Level',\n",
              "       'Relationship_Status', 'Hometown', 'Unit', 'Decision_skill_possess',\n",
              "       'Time_of_service', 'Time_since_promotion', 'growth_rate', 'Travel_Rate',\n",
              "       'Post_Level', 'Pay_Scale', 'Compensation_and_Benefits',\n",
              "       'Work_Life_balance', 'Attrition_rate'],\n",
              "      dtype='object')"
            ]
          },
          "metadata": {},
          "execution_count": 146
        }
      ]
    },
    {
      "cell_type": "code",
      "source": [
        "df_employees.head()"
      ],
      "metadata": {
        "colab": {
          "base_uri": "https://localhost:8080/",
          "height": 305
        },
        "id": "yYclW6x4q4gG",
        "outputId": "7c80e4ca-26c7-46e9-ab4a-a7c9e99d4acd"
      },
      "execution_count": 147,
      "outputs": [
        {
          "output_type": "execute_result",
          "data": {
            "text/plain": [
              "  Employee_ID Gender   Age  Education_Level Relationship_Status     Hometown  \\\n",
              "0   EID_23371      F  42.0                4             Married     Franklin   \n",
              "1   EID_18000      M  24.0                3              Single  Springfield   \n",
              "2    EID_3891      F  58.0                3             Married      Clinton   \n",
              "3   EID_17492      F  26.0                3              Single      Lebanon   \n",
              "4   EID_22534      F  31.0                1             Married  Springfield   \n",
              "\n",
              "                        Unit Decision_skill_possess  Time_of_service  \\\n",
              "0                         IT             Conceptual              4.0   \n",
              "1                  Logistics             Analytical              5.0   \n",
              "2                    Quality             Conceptual             27.0   \n",
              "3  Human Resource Management             Behavioral              4.0   \n",
              "4                  Logistics             Conceptual              5.0   \n",
              "\n",
              "   Time_since_promotion  growth_rate  Travel_Rate  Post_Level  Pay_Scale  \\\n",
              "0                     4           33            1           1        7.0   \n",
              "1                     4           36            0           3        6.0   \n",
              "2                     3           51            0           2        8.0   \n",
              "3                     3           56            1           3        8.0   \n",
              "4                     4           62            1           3        2.0   \n",
              "\n",
              "  Compensation_and_Benefits  Work_Life_balance  Attrition_rate  \n",
              "0                     type2                3.0          0.1841  \n",
              "1                     type2                4.0          0.0670  \n",
              "2                     type2                1.0          0.0851  \n",
              "3                     type2                1.0          0.0668  \n",
              "4                     type3                3.0          0.1827  "
            ],
            "text/html": [
              "\n",
              "  <div id=\"df-e328fc0f-a8d2-4c8d-9d4c-755f1c6cd424\">\n",
              "    <div class=\"colab-df-container\">\n",
              "      <div>\n",
              "<style scoped>\n",
              "    .dataframe tbody tr th:only-of-type {\n",
              "        vertical-align: middle;\n",
              "    }\n",
              "\n",
              "    .dataframe tbody tr th {\n",
              "        vertical-align: top;\n",
              "    }\n",
              "\n",
              "    .dataframe thead th {\n",
              "        text-align: right;\n",
              "    }\n",
              "</style>\n",
              "<table border=\"1\" class=\"dataframe\">\n",
              "  <thead>\n",
              "    <tr style=\"text-align: right;\">\n",
              "      <th></th>\n",
              "      <th>Employee_ID</th>\n",
              "      <th>Gender</th>\n",
              "      <th>Age</th>\n",
              "      <th>Education_Level</th>\n",
              "      <th>Relationship_Status</th>\n",
              "      <th>Hometown</th>\n",
              "      <th>Unit</th>\n",
              "      <th>Decision_skill_possess</th>\n",
              "      <th>Time_of_service</th>\n",
              "      <th>Time_since_promotion</th>\n",
              "      <th>growth_rate</th>\n",
              "      <th>Travel_Rate</th>\n",
              "      <th>Post_Level</th>\n",
              "      <th>Pay_Scale</th>\n",
              "      <th>Compensation_and_Benefits</th>\n",
              "      <th>Work_Life_balance</th>\n",
              "      <th>Attrition_rate</th>\n",
              "    </tr>\n",
              "  </thead>\n",
              "  <tbody>\n",
              "    <tr>\n",
              "      <th>0</th>\n",
              "      <td>EID_23371</td>\n",
              "      <td>F</td>\n",
              "      <td>42.0</td>\n",
              "      <td>4</td>\n",
              "      <td>Married</td>\n",
              "      <td>Franklin</td>\n",
              "      <td>IT</td>\n",
              "      <td>Conceptual</td>\n",
              "      <td>4.0</td>\n",
              "      <td>4</td>\n",
              "      <td>33</td>\n",
              "      <td>1</td>\n",
              "      <td>1</td>\n",
              "      <td>7.0</td>\n",
              "      <td>type2</td>\n",
              "      <td>3.0</td>\n",
              "      <td>0.1841</td>\n",
              "    </tr>\n",
              "    <tr>\n",
              "      <th>1</th>\n",
              "      <td>EID_18000</td>\n",
              "      <td>M</td>\n",
              "      <td>24.0</td>\n",
              "      <td>3</td>\n",
              "      <td>Single</td>\n",
              "      <td>Springfield</td>\n",
              "      <td>Logistics</td>\n",
              "      <td>Analytical</td>\n",
              "      <td>5.0</td>\n",
              "      <td>4</td>\n",
              "      <td>36</td>\n",
              "      <td>0</td>\n",
              "      <td>3</td>\n",
              "      <td>6.0</td>\n",
              "      <td>type2</td>\n",
              "      <td>4.0</td>\n",
              "      <td>0.0670</td>\n",
              "    </tr>\n",
              "    <tr>\n",
              "      <th>2</th>\n",
              "      <td>EID_3891</td>\n",
              "      <td>F</td>\n",
              "      <td>58.0</td>\n",
              "      <td>3</td>\n",
              "      <td>Married</td>\n",
              "      <td>Clinton</td>\n",
              "      <td>Quality</td>\n",
              "      <td>Conceptual</td>\n",
              "      <td>27.0</td>\n",
              "      <td>3</td>\n",
              "      <td>51</td>\n",
              "      <td>0</td>\n",
              "      <td>2</td>\n",
              "      <td>8.0</td>\n",
              "      <td>type2</td>\n",
              "      <td>1.0</td>\n",
              "      <td>0.0851</td>\n",
              "    </tr>\n",
              "    <tr>\n",
              "      <th>3</th>\n",
              "      <td>EID_17492</td>\n",
              "      <td>F</td>\n",
              "      <td>26.0</td>\n",
              "      <td>3</td>\n",
              "      <td>Single</td>\n",
              "      <td>Lebanon</td>\n",
              "      <td>Human Resource Management</td>\n",
              "      <td>Behavioral</td>\n",
              "      <td>4.0</td>\n",
              "      <td>3</td>\n",
              "      <td>56</td>\n",
              "      <td>1</td>\n",
              "      <td>3</td>\n",
              "      <td>8.0</td>\n",
              "      <td>type2</td>\n",
              "      <td>1.0</td>\n",
              "      <td>0.0668</td>\n",
              "    </tr>\n",
              "    <tr>\n",
              "      <th>4</th>\n",
              "      <td>EID_22534</td>\n",
              "      <td>F</td>\n",
              "      <td>31.0</td>\n",
              "      <td>1</td>\n",
              "      <td>Married</td>\n",
              "      <td>Springfield</td>\n",
              "      <td>Logistics</td>\n",
              "      <td>Conceptual</td>\n",
              "      <td>5.0</td>\n",
              "      <td>4</td>\n",
              "      <td>62</td>\n",
              "      <td>1</td>\n",
              "      <td>3</td>\n",
              "      <td>2.0</td>\n",
              "      <td>type3</td>\n",
              "      <td>3.0</td>\n",
              "      <td>0.1827</td>\n",
              "    </tr>\n",
              "  </tbody>\n",
              "</table>\n",
              "</div>\n",
              "      <button class=\"colab-df-convert\" onclick=\"convertToInteractive('df-e328fc0f-a8d2-4c8d-9d4c-755f1c6cd424')\"\n",
              "              title=\"Convert this dataframe to an interactive table.\"\n",
              "              style=\"display:none;\">\n",
              "        \n",
              "  <svg xmlns=\"http://www.w3.org/2000/svg\" height=\"24px\"viewBox=\"0 0 24 24\"\n",
              "       width=\"24px\">\n",
              "    <path d=\"M0 0h24v24H0V0z\" fill=\"none\"/>\n",
              "    <path d=\"M18.56 5.44l.94 2.06.94-2.06 2.06-.94-2.06-.94-.94-2.06-.94 2.06-2.06.94zm-11 1L8.5 8.5l.94-2.06 2.06-.94-2.06-.94L8.5 2.5l-.94 2.06-2.06.94zm10 10l.94 2.06.94-2.06 2.06-.94-2.06-.94-.94-2.06-.94 2.06-2.06.94z\"/><path d=\"M17.41 7.96l-1.37-1.37c-.4-.4-.92-.59-1.43-.59-.52 0-1.04.2-1.43.59L10.3 9.45l-7.72 7.72c-.78.78-.78 2.05 0 2.83L4 21.41c.39.39.9.59 1.41.59.51 0 1.02-.2 1.41-.59l7.78-7.78 2.81-2.81c.8-.78.8-2.07 0-2.86zM5.41 20L4 18.59l7.72-7.72 1.47 1.35L5.41 20z\"/>\n",
              "  </svg>\n",
              "      </button>\n",
              "      \n",
              "  <style>\n",
              "    .colab-df-container {\n",
              "      display:flex;\n",
              "      flex-wrap:wrap;\n",
              "      gap: 12px;\n",
              "    }\n",
              "\n",
              "    .colab-df-convert {\n",
              "      background-color: #E8F0FE;\n",
              "      border: none;\n",
              "      border-radius: 50%;\n",
              "      cursor: pointer;\n",
              "      display: none;\n",
              "      fill: #1967D2;\n",
              "      height: 32px;\n",
              "      padding: 0 0 0 0;\n",
              "      width: 32px;\n",
              "    }\n",
              "\n",
              "    .colab-df-convert:hover {\n",
              "      background-color: #E2EBFA;\n",
              "      box-shadow: 0px 1px 2px rgba(60, 64, 67, 0.3), 0px 1px 3px 1px rgba(60, 64, 67, 0.15);\n",
              "      fill: #174EA6;\n",
              "    }\n",
              "\n",
              "    [theme=dark] .colab-df-convert {\n",
              "      background-color: #3B4455;\n",
              "      fill: #D2E3FC;\n",
              "    }\n",
              "\n",
              "    [theme=dark] .colab-df-convert:hover {\n",
              "      background-color: #434B5C;\n",
              "      box-shadow: 0px 1px 3px 1px rgba(0, 0, 0, 0.15);\n",
              "      filter: drop-shadow(0px 1px 2px rgba(0, 0, 0, 0.3));\n",
              "      fill: #FFFFFF;\n",
              "    }\n",
              "  </style>\n",
              "\n",
              "      <script>\n",
              "        const buttonEl =\n",
              "          document.querySelector('#df-e328fc0f-a8d2-4c8d-9d4c-755f1c6cd424 button.colab-df-convert');\n",
              "        buttonEl.style.display =\n",
              "          google.colab.kernel.accessAllowed ? 'block' : 'none';\n",
              "\n",
              "        async function convertToInteractive(key) {\n",
              "          const element = document.querySelector('#df-e328fc0f-a8d2-4c8d-9d4c-755f1c6cd424');\n",
              "          const dataTable =\n",
              "            await google.colab.kernel.invokeFunction('convertToInteractive',\n",
              "                                                     [key], {});\n",
              "          if (!dataTable) return;\n",
              "\n",
              "          const docLinkHtml = 'Like what you see? Visit the ' +\n",
              "            '<a target=\"_blank\" href=https://colab.research.google.com/notebooks/data_table.ipynb>data table notebook</a>'\n",
              "            + ' to learn more about interactive tables.';\n",
              "          element.innerHTML = '';\n",
              "          dataTable['output_type'] = 'display_data';\n",
              "          await google.colab.output.renderOutput(dataTable, element);\n",
              "          const docLink = document.createElement('div');\n",
              "          docLink.innerHTML = docLinkHtml;\n",
              "          element.appendChild(docLink);\n",
              "        }\n",
              "      </script>\n",
              "    </div>\n",
              "  </div>\n",
              "  "
            ]
          },
          "metadata": {},
          "execution_count": 147
        }
      ]
    },
    {
      "cell_type": "code",
      "source": [
        "df_employees.dtypes"
      ],
      "metadata": {
        "colab": {
          "base_uri": "https://localhost:8080/"
        },
        "id": "zQ42bTuoq6aX",
        "outputId": "ae54cdf8-3291-48ab-95e2-36cbfa15b1e1"
      },
      "execution_count": 148,
      "outputs": [
        {
          "output_type": "execute_result",
          "data": {
            "text/plain": [
              "Employee_ID                   object\n",
              "Gender                        object\n",
              "Age                          float64\n",
              "Education_Level                int64\n",
              "Relationship_Status           object\n",
              "Hometown                      object\n",
              "Unit                          object\n",
              "Decision_skill_possess        object\n",
              "Time_of_service              float64\n",
              "Time_since_promotion           int64\n",
              "growth_rate                    int64\n",
              "Travel_Rate                    int64\n",
              "Post_Level                     int64\n",
              "Pay_Scale                    float64\n",
              "Compensation_and_Benefits     object\n",
              "Work_Life_balance            float64\n",
              "Attrition_rate               float64\n",
              "dtype: object"
            ]
          },
          "metadata": {},
          "execution_count": 148
        }
      ]
    },
    {
      "cell_type": "markdown",
      "metadata": {
        "id": "nOlsZKn8Jx4l"
      },
      "source": [
        "4.\tCalcula el % total de valores faltantes y elimina los registros que contengan `NaN`"
      ]
    },
    {
      "cell_type": "code",
      "source": [
        "df_employees.isna().mean() "
      ],
      "metadata": {
        "colab": {
          "base_uri": "https://localhost:8080/"
        },
        "id": "JzcBvyosw9RQ",
        "outputId": "ba103f19-2003-49ca-8201-dd578722076f"
      },
      "execution_count": 149,
      "outputs": [
        {
          "output_type": "execute_result",
          "data": {
            "text/plain": [
              "Employee_ID                  0.000000\n",
              "Gender                       0.000000\n",
              "Age                          0.058857\n",
              "Education_Level              0.000000\n",
              "Relationship_Status          0.000000\n",
              "Hometown                     0.000000\n",
              "Unit                         0.000000\n",
              "Decision_skill_possess       0.000000\n",
              "Time_of_service              0.020571\n",
              "Time_since_promotion         0.000000\n",
              "growth_rate                  0.000000\n",
              "Travel_Rate                  0.000000\n",
              "Post_Level                   0.000000\n",
              "Pay_Scale                    0.001286\n",
              "Compensation_and_Benefits    0.000000\n",
              "Work_Life_balance            0.001571\n",
              "Attrition_rate               0.000000\n",
              "dtype: float64"
            ]
          },
          "metadata": {},
          "execution_count": 149
        }
      ]
    },
    {
      "cell_type": "code",
      "metadata": {
        "id": "Tb0HKzNmN6hq",
        "colab": {
          "base_uri": "https://localhost:8080/"
        },
        "outputId": "9f1df4e8-ae71-4e5c-9d3a-a609864bd85c"
      },
      "source": [
        "nan_percentage = df_employees.isna().mean() \n",
        "nan_percentage[['Age','Time_of_service','Pay_Scale','Work_Life_balance']]\n"
      ],
      "execution_count": 150,
      "outputs": [
        {
          "output_type": "execute_result",
          "data": {
            "text/plain": [
              "Age                  0.058857\n",
              "Time_of_service      0.020571\n",
              "Pay_Scale            0.001286\n",
              "Work_Life_balance    0.001571\n",
              "dtype: float64"
            ]
          },
          "metadata": {},
          "execution_count": 150
        }
      ]
    },
    {
      "cell_type": "code",
      "source": [
        "# Reemplazamos todos los valores NaN por un \"no registrado\"\n",
        "\n",
        "df_employees['Age'] = df_employees['Age'].fillna(0)\n",
        "df_employees['Time_of_service'] = df_employees['Time_of_service'].fillna(0)\n",
        "df_employees['Pay_Scale'] = df_employees['Pay_Scale'].fillna(0)\n",
        "df_employees['Work_Life_balance'] = df_employees['Work_Life_balance'].fillna(0)"
      ],
      "metadata": {
        "id": "b-KgHP0ArHAY"
      },
      "execution_count": 151,
      "outputs": []
    },
    {
      "cell_type": "code",
      "source": [
        "# comprobación de que no hay mas NaN\n",
        "\n",
        "df_employees.isna().mean()"
      ],
      "metadata": {
        "colab": {
          "base_uri": "https://localhost:8080/"
        },
        "id": "Dg5gudRWrJkn",
        "outputId": "2b1f5ce0-17dd-49d9-8a4a-77098adf7beb"
      },
      "execution_count": 152,
      "outputs": [
        {
          "output_type": "execute_result",
          "data": {
            "text/plain": [
              "Employee_ID                  0.0\n",
              "Gender                       0.0\n",
              "Age                          0.0\n",
              "Education_Level              0.0\n",
              "Relationship_Status          0.0\n",
              "Hometown                     0.0\n",
              "Unit                         0.0\n",
              "Decision_skill_possess       0.0\n",
              "Time_of_service              0.0\n",
              "Time_since_promotion         0.0\n",
              "growth_rate                  0.0\n",
              "Travel_Rate                  0.0\n",
              "Post_Level                   0.0\n",
              "Pay_Scale                    0.0\n",
              "Compensation_and_Benefits    0.0\n",
              "Work_Life_balance            0.0\n",
              "Attrition_rate               0.0\n",
              "dtype: float64"
            ]
          },
          "metadata": {},
          "execution_count": 152
        }
      ]
    },
    {
      "cell_type": "markdown",
      "metadata": {
        "id": "ihPS-17tJ4uq"
      },
      "source": [
        "5.\tObtén la cantidad de valores únicos por columna, para responder:\n",
        "*  ¿Cuántos niveles educativos hay?\n",
        "*  ¿Cuántas ciudades participaron en el estudio?\n"
      ]
    },
    {
      "cell_type": "code",
      "metadata": {
        "id": "t0CLaK-vN7O8",
        "colab": {
          "base_uri": "https://localhost:8080/"
        },
        "outputId": "00757861-c48a-4c37-a6b6-b967628e50e5"
      },
      "source": [
        "df_employees[['Education_Level']].nunique()"
      ],
      "execution_count": 153,
      "outputs": [
        {
          "output_type": "execute_result",
          "data": {
            "text/plain": [
              "Education_Level    5\n",
              "dtype: int64"
            ]
          },
          "metadata": {},
          "execution_count": 153
        }
      ]
    },
    {
      "cell_type": "code",
      "source": [
        "df_employees[['Hometown']].nunique()"
      ],
      "metadata": {
        "colab": {
          "base_uri": "https://localhost:8080/"
        },
        "id": "sUqk_5tAy0un",
        "outputId": "51718aa2-9ac7-4e69-f281-37cc4ab53555"
      },
      "execution_count": 154,
      "outputs": [
        {
          "output_type": "execute_result",
          "data": {
            "text/plain": [
              "Hometown    5\n",
              "dtype: int64"
            ]
          },
          "metadata": {},
          "execution_count": 154
        }
      ]
    },
    {
      "cell_type": "markdown",
      "metadata": {
        "id": "Hp6gPle5KEVA"
      },
      "source": [
        "6.\tRealiza el conteo de valores por categoría (`value_counts()`) para las columnas de género y estado civil"
      ]
    },
    {
      "cell_type": "code",
      "metadata": {
        "id": "Hvilo1R0N7yT",
        "colab": {
          "base_uri": "https://localhost:8080/"
        },
        "outputId": "b1857b09-ed69-4cce-c2ad-0296b1c88274"
      },
      "source": [
        "df_employees['Gender'].value_counts()"
      ],
      "execution_count": 155,
      "outputs": [
        {
          "output_type": "execute_result",
          "data": {
            "text/plain": [
              "F    4114\n",
              "M    2886\n",
              "Name: Gender, dtype: int64"
            ]
          },
          "metadata": {},
          "execution_count": 155
        }
      ]
    },
    {
      "cell_type": "code",
      "metadata": {
        "colab": {
          "base_uri": "https://localhost:8080/"
        },
        "outputId": "6d05728b-3f0f-4b95-8abc-cb527ba52bf6",
        "id": "vMGp1ZHCzfPp"
      },
      "source": [
        "df_employees['Relationship_Status'].value_counts()"
      ],
      "execution_count": 156,
      "outputs": [
        {
          "output_type": "execute_result",
          "data": {
            "text/plain": [
              "Married    4520\n",
              "Single     2480\n",
              "Name: Relationship_Status, dtype: int64"
            ]
          },
          "metadata": {},
          "execution_count": 156
        }
      ]
    },
    {
      "cell_type": "markdown",
      "metadata": {
        "id": "UmPyrxf9KKnJ"
      },
      "source": [
        "7.\tA través de la función `describe()` responde:\n",
        "*  ¿Cuál es el tiempo máximo de servicio?\n",
        "*  ¿Qué promedio de edad tienen los empleados encuestados?\n",
        "*  ¿Cuál es el valor del 1er cuartil en la escala de pago?\n",
        "\n"
      ]
    },
    {
      "cell_type": "markdown",
      "metadata": {
        "id": "YIEB2G4pKfQS"
      },
      "source": [
        "8.\tElabora en un histograma con las edades para identificar el rango más común."
      ]
    },
    {
      "cell_type": "code",
      "metadata": {
        "id": "_swev4kCN8i7",
        "colab": {
          "base_uri": "https://localhost:8080/",
          "height": 458
        },
        "outputId": "63cf82b1-4e9f-41a8-ca74-ff37cae70228"
      },
      "source": [
        "descript = df_employees.describe(include = 'all') \n",
        "descript"
      ],
      "execution_count": 157,
      "outputs": [
        {
          "output_type": "execute_result",
          "data": {
            "text/plain": [
              "       Employee_ID Gender          Age  Education_Level Relationship_Status  \\\n",
              "count         7000   7000  7000.000000      7000.000000                7000   \n",
              "unique        7000      2          NaN              NaN                   2   \n",
              "top      EID_23371      F          NaN              NaN             Married   \n",
              "freq             1   4114          NaN              NaN                4520   \n",
              "mean           NaN    NaN    37.290714         3.187857                 NaN   \n",
              "std            NaN    NaN    16.162517         1.065102                 NaN   \n",
              "min            NaN    NaN     0.000000         1.000000                 NaN   \n",
              "25%            NaN    NaN    26.000000         3.000000                 NaN   \n",
              "50%            NaN    NaN    36.000000         3.000000                 NaN   \n",
              "75%            NaN    NaN    51.000000         4.000000                 NaN   \n",
              "max            NaN    NaN    65.000000         5.000000                 NaN   \n",
              "\n",
              "       Hometown  Unit Decision_skill_possess  Time_of_service  \\\n",
              "count      7000  7000                   7000      7000.000000   \n",
              "unique        5    12                      4              NaN   \n",
              "top     Lebanon    IT             Conceptual              NaN   \n",
              "freq       2070  1394                   1756              NaN   \n",
              "mean        NaN   NaN                    NaN        13.109714   \n",
              "std         NaN   NaN                    NaN        10.431522   \n",
              "min         NaN   NaN                    NaN         0.000000   \n",
              "25%         NaN   NaN                    NaN         5.000000   \n",
              "50%         NaN   NaN                    NaN        10.000000   \n",
              "75%         NaN   NaN                    NaN        20.000000   \n",
              "max         NaN   NaN                    NaN        43.000000   \n",
              "\n",
              "        Time_since_promotion  growth_rate  Travel_Rate   Post_Level  \\\n",
              "count            7000.000000  7000.000000  7000.000000  7000.000000   \n",
              "unique                   NaN          NaN          NaN          NaN   \n",
              "top                      NaN          NaN          NaN          NaN   \n",
              "freq                     NaN          NaN          NaN          NaN   \n",
              "mean                2.367143    47.064286     0.817857     2.798000   \n",
              "std                 1.149395    15.761406     0.648205     1.163721   \n",
              "min                 0.000000    20.000000     0.000000     1.000000   \n",
              "25%                 1.000000    33.000000     0.000000     2.000000   \n",
              "50%                 2.000000    47.000000     1.000000     3.000000   \n",
              "75%                 3.000000    61.000000     1.000000     3.000000   \n",
              "max                 4.000000    74.000000     2.000000     5.000000   \n",
              "\n",
              "          Pay_Scale Compensation_and_Benefits  Work_Life_balance  \\\n",
              "count   7000.000000                      7000        7000.000000   \n",
              "unique          NaN                         5                NaN   \n",
              "top             NaN                     type2                NaN   \n",
              "freq            NaN                      3945                NaN   \n",
              "mean       5.998571                       NaN           2.384143   \n",
              "std        2.068342                       NaN           1.125884   \n",
              "min        0.000000                       NaN           0.000000   \n",
              "25%        5.000000                       NaN           1.000000   \n",
              "50%        6.000000                       NaN           2.000000   \n",
              "75%        8.000000                       NaN           3.000000   \n",
              "max       10.000000                       NaN           5.000000   \n",
              "\n",
              "        Attrition_rate  \n",
              "count      7000.000000  \n",
              "unique             NaN  \n",
              "top                NaN  \n",
              "freq               NaN  \n",
              "mean          0.189376  \n",
              "std           0.185753  \n",
              "min           0.000000  \n",
              "25%           0.070400  \n",
              "50%           0.142650  \n",
              "75%           0.235000  \n",
              "max           0.995900  "
            ],
            "text/html": [
              "\n",
              "  <div id=\"df-bc0c69e0-40b3-4032-9d5e-3a7f54c8d395\">\n",
              "    <div class=\"colab-df-container\">\n",
              "      <div>\n",
              "<style scoped>\n",
              "    .dataframe tbody tr th:only-of-type {\n",
              "        vertical-align: middle;\n",
              "    }\n",
              "\n",
              "    .dataframe tbody tr th {\n",
              "        vertical-align: top;\n",
              "    }\n",
              "\n",
              "    .dataframe thead th {\n",
              "        text-align: right;\n",
              "    }\n",
              "</style>\n",
              "<table border=\"1\" class=\"dataframe\">\n",
              "  <thead>\n",
              "    <tr style=\"text-align: right;\">\n",
              "      <th></th>\n",
              "      <th>Employee_ID</th>\n",
              "      <th>Gender</th>\n",
              "      <th>Age</th>\n",
              "      <th>Education_Level</th>\n",
              "      <th>Relationship_Status</th>\n",
              "      <th>Hometown</th>\n",
              "      <th>Unit</th>\n",
              "      <th>Decision_skill_possess</th>\n",
              "      <th>Time_of_service</th>\n",
              "      <th>Time_since_promotion</th>\n",
              "      <th>growth_rate</th>\n",
              "      <th>Travel_Rate</th>\n",
              "      <th>Post_Level</th>\n",
              "      <th>Pay_Scale</th>\n",
              "      <th>Compensation_and_Benefits</th>\n",
              "      <th>Work_Life_balance</th>\n",
              "      <th>Attrition_rate</th>\n",
              "    </tr>\n",
              "  </thead>\n",
              "  <tbody>\n",
              "    <tr>\n",
              "      <th>count</th>\n",
              "      <td>7000</td>\n",
              "      <td>7000</td>\n",
              "      <td>7000.000000</td>\n",
              "      <td>7000.000000</td>\n",
              "      <td>7000</td>\n",
              "      <td>7000</td>\n",
              "      <td>7000</td>\n",
              "      <td>7000</td>\n",
              "      <td>7000.000000</td>\n",
              "      <td>7000.000000</td>\n",
              "      <td>7000.000000</td>\n",
              "      <td>7000.000000</td>\n",
              "      <td>7000.000000</td>\n",
              "      <td>7000.000000</td>\n",
              "      <td>7000</td>\n",
              "      <td>7000.000000</td>\n",
              "      <td>7000.000000</td>\n",
              "    </tr>\n",
              "    <tr>\n",
              "      <th>unique</th>\n",
              "      <td>7000</td>\n",
              "      <td>2</td>\n",
              "      <td>NaN</td>\n",
              "      <td>NaN</td>\n",
              "      <td>2</td>\n",
              "      <td>5</td>\n",
              "      <td>12</td>\n",
              "      <td>4</td>\n",
              "      <td>NaN</td>\n",
              "      <td>NaN</td>\n",
              "      <td>NaN</td>\n",
              "      <td>NaN</td>\n",
              "      <td>NaN</td>\n",
              "      <td>NaN</td>\n",
              "      <td>5</td>\n",
              "      <td>NaN</td>\n",
              "      <td>NaN</td>\n",
              "    </tr>\n",
              "    <tr>\n",
              "      <th>top</th>\n",
              "      <td>EID_23371</td>\n",
              "      <td>F</td>\n",
              "      <td>NaN</td>\n",
              "      <td>NaN</td>\n",
              "      <td>Married</td>\n",
              "      <td>Lebanon</td>\n",
              "      <td>IT</td>\n",
              "      <td>Conceptual</td>\n",
              "      <td>NaN</td>\n",
              "      <td>NaN</td>\n",
              "      <td>NaN</td>\n",
              "      <td>NaN</td>\n",
              "      <td>NaN</td>\n",
              "      <td>NaN</td>\n",
              "      <td>type2</td>\n",
              "      <td>NaN</td>\n",
              "      <td>NaN</td>\n",
              "    </tr>\n",
              "    <tr>\n",
              "      <th>freq</th>\n",
              "      <td>1</td>\n",
              "      <td>4114</td>\n",
              "      <td>NaN</td>\n",
              "      <td>NaN</td>\n",
              "      <td>4520</td>\n",
              "      <td>2070</td>\n",
              "      <td>1394</td>\n",
              "      <td>1756</td>\n",
              "      <td>NaN</td>\n",
              "      <td>NaN</td>\n",
              "      <td>NaN</td>\n",
              "      <td>NaN</td>\n",
              "      <td>NaN</td>\n",
              "      <td>NaN</td>\n",
              "      <td>3945</td>\n",
              "      <td>NaN</td>\n",
              "      <td>NaN</td>\n",
              "    </tr>\n",
              "    <tr>\n",
              "      <th>mean</th>\n",
              "      <td>NaN</td>\n",
              "      <td>NaN</td>\n",
              "      <td>37.290714</td>\n",
              "      <td>3.187857</td>\n",
              "      <td>NaN</td>\n",
              "      <td>NaN</td>\n",
              "      <td>NaN</td>\n",
              "      <td>NaN</td>\n",
              "      <td>13.109714</td>\n",
              "      <td>2.367143</td>\n",
              "      <td>47.064286</td>\n",
              "      <td>0.817857</td>\n",
              "      <td>2.798000</td>\n",
              "      <td>5.998571</td>\n",
              "      <td>NaN</td>\n",
              "      <td>2.384143</td>\n",
              "      <td>0.189376</td>\n",
              "    </tr>\n",
              "    <tr>\n",
              "      <th>std</th>\n",
              "      <td>NaN</td>\n",
              "      <td>NaN</td>\n",
              "      <td>16.162517</td>\n",
              "      <td>1.065102</td>\n",
              "      <td>NaN</td>\n",
              "      <td>NaN</td>\n",
              "      <td>NaN</td>\n",
              "      <td>NaN</td>\n",
              "      <td>10.431522</td>\n",
              "      <td>1.149395</td>\n",
              "      <td>15.761406</td>\n",
              "      <td>0.648205</td>\n",
              "      <td>1.163721</td>\n",
              "      <td>2.068342</td>\n",
              "      <td>NaN</td>\n",
              "      <td>1.125884</td>\n",
              "      <td>0.185753</td>\n",
              "    </tr>\n",
              "    <tr>\n",
              "      <th>min</th>\n",
              "      <td>NaN</td>\n",
              "      <td>NaN</td>\n",
              "      <td>0.000000</td>\n",
              "      <td>1.000000</td>\n",
              "      <td>NaN</td>\n",
              "      <td>NaN</td>\n",
              "      <td>NaN</td>\n",
              "      <td>NaN</td>\n",
              "      <td>0.000000</td>\n",
              "      <td>0.000000</td>\n",
              "      <td>20.000000</td>\n",
              "      <td>0.000000</td>\n",
              "      <td>1.000000</td>\n",
              "      <td>0.000000</td>\n",
              "      <td>NaN</td>\n",
              "      <td>0.000000</td>\n",
              "      <td>0.000000</td>\n",
              "    </tr>\n",
              "    <tr>\n",
              "      <th>25%</th>\n",
              "      <td>NaN</td>\n",
              "      <td>NaN</td>\n",
              "      <td>26.000000</td>\n",
              "      <td>3.000000</td>\n",
              "      <td>NaN</td>\n",
              "      <td>NaN</td>\n",
              "      <td>NaN</td>\n",
              "      <td>NaN</td>\n",
              "      <td>5.000000</td>\n",
              "      <td>1.000000</td>\n",
              "      <td>33.000000</td>\n",
              "      <td>0.000000</td>\n",
              "      <td>2.000000</td>\n",
              "      <td>5.000000</td>\n",
              "      <td>NaN</td>\n",
              "      <td>1.000000</td>\n",
              "      <td>0.070400</td>\n",
              "    </tr>\n",
              "    <tr>\n",
              "      <th>50%</th>\n",
              "      <td>NaN</td>\n",
              "      <td>NaN</td>\n",
              "      <td>36.000000</td>\n",
              "      <td>3.000000</td>\n",
              "      <td>NaN</td>\n",
              "      <td>NaN</td>\n",
              "      <td>NaN</td>\n",
              "      <td>NaN</td>\n",
              "      <td>10.000000</td>\n",
              "      <td>2.000000</td>\n",
              "      <td>47.000000</td>\n",
              "      <td>1.000000</td>\n",
              "      <td>3.000000</td>\n",
              "      <td>6.000000</td>\n",
              "      <td>NaN</td>\n",
              "      <td>2.000000</td>\n",
              "      <td>0.142650</td>\n",
              "    </tr>\n",
              "    <tr>\n",
              "      <th>75%</th>\n",
              "      <td>NaN</td>\n",
              "      <td>NaN</td>\n",
              "      <td>51.000000</td>\n",
              "      <td>4.000000</td>\n",
              "      <td>NaN</td>\n",
              "      <td>NaN</td>\n",
              "      <td>NaN</td>\n",
              "      <td>NaN</td>\n",
              "      <td>20.000000</td>\n",
              "      <td>3.000000</td>\n",
              "      <td>61.000000</td>\n",
              "      <td>1.000000</td>\n",
              "      <td>3.000000</td>\n",
              "      <td>8.000000</td>\n",
              "      <td>NaN</td>\n",
              "      <td>3.000000</td>\n",
              "      <td>0.235000</td>\n",
              "    </tr>\n",
              "    <tr>\n",
              "      <th>max</th>\n",
              "      <td>NaN</td>\n",
              "      <td>NaN</td>\n",
              "      <td>65.000000</td>\n",
              "      <td>5.000000</td>\n",
              "      <td>NaN</td>\n",
              "      <td>NaN</td>\n",
              "      <td>NaN</td>\n",
              "      <td>NaN</td>\n",
              "      <td>43.000000</td>\n",
              "      <td>4.000000</td>\n",
              "      <td>74.000000</td>\n",
              "      <td>2.000000</td>\n",
              "      <td>5.000000</td>\n",
              "      <td>10.000000</td>\n",
              "      <td>NaN</td>\n",
              "      <td>5.000000</td>\n",
              "      <td>0.995900</td>\n",
              "    </tr>\n",
              "  </tbody>\n",
              "</table>\n",
              "</div>\n",
              "      <button class=\"colab-df-convert\" onclick=\"convertToInteractive('df-bc0c69e0-40b3-4032-9d5e-3a7f54c8d395')\"\n",
              "              title=\"Convert this dataframe to an interactive table.\"\n",
              "              style=\"display:none;\">\n",
              "        \n",
              "  <svg xmlns=\"http://www.w3.org/2000/svg\" height=\"24px\"viewBox=\"0 0 24 24\"\n",
              "       width=\"24px\">\n",
              "    <path d=\"M0 0h24v24H0V0z\" fill=\"none\"/>\n",
              "    <path d=\"M18.56 5.44l.94 2.06.94-2.06 2.06-.94-2.06-.94-.94-2.06-.94 2.06-2.06.94zm-11 1L8.5 8.5l.94-2.06 2.06-.94-2.06-.94L8.5 2.5l-.94 2.06-2.06.94zm10 10l.94 2.06.94-2.06 2.06-.94-2.06-.94-.94-2.06-.94 2.06-2.06.94z\"/><path d=\"M17.41 7.96l-1.37-1.37c-.4-.4-.92-.59-1.43-.59-.52 0-1.04.2-1.43.59L10.3 9.45l-7.72 7.72c-.78.78-.78 2.05 0 2.83L4 21.41c.39.39.9.59 1.41.59.51 0 1.02-.2 1.41-.59l7.78-7.78 2.81-2.81c.8-.78.8-2.07 0-2.86zM5.41 20L4 18.59l7.72-7.72 1.47 1.35L5.41 20z\"/>\n",
              "  </svg>\n",
              "      </button>\n",
              "      \n",
              "  <style>\n",
              "    .colab-df-container {\n",
              "      display:flex;\n",
              "      flex-wrap:wrap;\n",
              "      gap: 12px;\n",
              "    }\n",
              "\n",
              "    .colab-df-convert {\n",
              "      background-color: #E8F0FE;\n",
              "      border: none;\n",
              "      border-radius: 50%;\n",
              "      cursor: pointer;\n",
              "      display: none;\n",
              "      fill: #1967D2;\n",
              "      height: 32px;\n",
              "      padding: 0 0 0 0;\n",
              "      width: 32px;\n",
              "    }\n",
              "\n",
              "    .colab-df-convert:hover {\n",
              "      background-color: #E2EBFA;\n",
              "      box-shadow: 0px 1px 2px rgba(60, 64, 67, 0.3), 0px 1px 3px 1px rgba(60, 64, 67, 0.15);\n",
              "      fill: #174EA6;\n",
              "    }\n",
              "\n",
              "    [theme=dark] .colab-df-convert {\n",
              "      background-color: #3B4455;\n",
              "      fill: #D2E3FC;\n",
              "    }\n",
              "\n",
              "    [theme=dark] .colab-df-convert:hover {\n",
              "      background-color: #434B5C;\n",
              "      box-shadow: 0px 1px 3px 1px rgba(0, 0, 0, 0.15);\n",
              "      filter: drop-shadow(0px 1px 2px rgba(0, 0, 0, 0.3));\n",
              "      fill: #FFFFFF;\n",
              "    }\n",
              "  </style>\n",
              "\n",
              "      <script>\n",
              "        const buttonEl =\n",
              "          document.querySelector('#df-bc0c69e0-40b3-4032-9d5e-3a7f54c8d395 button.colab-df-convert');\n",
              "        buttonEl.style.display =\n",
              "          google.colab.kernel.accessAllowed ? 'block' : 'none';\n",
              "\n",
              "        async function convertToInteractive(key) {\n",
              "          const element = document.querySelector('#df-bc0c69e0-40b3-4032-9d5e-3a7f54c8d395');\n",
              "          const dataTable =\n",
              "            await google.colab.kernel.invokeFunction('convertToInteractive',\n",
              "                                                     [key], {});\n",
              "          if (!dataTable) return;\n",
              "\n",
              "          const docLinkHtml = 'Like what you see? Visit the ' +\n",
              "            '<a target=\"_blank\" href=https://colab.research.google.com/notebooks/data_table.ipynb>data table notebook</a>'\n",
              "            + ' to learn more about interactive tables.';\n",
              "          element.innerHTML = '';\n",
              "          dataTable['output_type'] = 'display_data';\n",
              "          await google.colab.output.renderOutput(dataTable, element);\n",
              "          const docLink = document.createElement('div');\n",
              "          docLink.innerHTML = docLinkHtml;\n",
              "          element.appendChild(docLink);\n",
              "        }\n",
              "      </script>\n",
              "    </div>\n",
              "  </div>\n",
              "  "
            ]
          },
          "metadata": {},
          "execution_count": 157
        }
      ]
    },
    {
      "cell_type": "code",
      "source": [
        "descript.loc[['max','mean','25%'],['Time_of_service','Age','Pay_Scale']]"
      ],
      "metadata": {
        "colab": {
          "base_uri": "https://localhost:8080/",
          "height": 143
        },
        "id": "8CNY_ciTzt1R",
        "outputId": "3a355f75-5866-4d7f-fb2f-4939692dae9b"
      },
      "execution_count": 158,
      "outputs": [
        {
          "output_type": "execute_result",
          "data": {
            "text/plain": [
              "      Time_of_service        Age  Pay_Scale\n",
              "max         43.000000  65.000000  10.000000\n",
              "mean        13.109714  37.290714   5.998571\n",
              "25%          5.000000  26.000000   5.000000"
            ],
            "text/html": [
              "\n",
              "  <div id=\"df-f945ef0f-f7e0-4c29-8aea-56cbb7e6c196\">\n",
              "    <div class=\"colab-df-container\">\n",
              "      <div>\n",
              "<style scoped>\n",
              "    .dataframe tbody tr th:only-of-type {\n",
              "        vertical-align: middle;\n",
              "    }\n",
              "\n",
              "    .dataframe tbody tr th {\n",
              "        vertical-align: top;\n",
              "    }\n",
              "\n",
              "    .dataframe thead th {\n",
              "        text-align: right;\n",
              "    }\n",
              "</style>\n",
              "<table border=\"1\" class=\"dataframe\">\n",
              "  <thead>\n",
              "    <tr style=\"text-align: right;\">\n",
              "      <th></th>\n",
              "      <th>Time_of_service</th>\n",
              "      <th>Age</th>\n",
              "      <th>Pay_Scale</th>\n",
              "    </tr>\n",
              "  </thead>\n",
              "  <tbody>\n",
              "    <tr>\n",
              "      <th>max</th>\n",
              "      <td>43.000000</td>\n",
              "      <td>65.000000</td>\n",
              "      <td>10.000000</td>\n",
              "    </tr>\n",
              "    <tr>\n",
              "      <th>mean</th>\n",
              "      <td>13.109714</td>\n",
              "      <td>37.290714</td>\n",
              "      <td>5.998571</td>\n",
              "    </tr>\n",
              "    <tr>\n",
              "      <th>25%</th>\n",
              "      <td>5.000000</td>\n",
              "      <td>26.000000</td>\n",
              "      <td>5.000000</td>\n",
              "    </tr>\n",
              "  </tbody>\n",
              "</table>\n",
              "</div>\n",
              "      <button class=\"colab-df-convert\" onclick=\"convertToInteractive('df-f945ef0f-f7e0-4c29-8aea-56cbb7e6c196')\"\n",
              "              title=\"Convert this dataframe to an interactive table.\"\n",
              "              style=\"display:none;\">\n",
              "        \n",
              "  <svg xmlns=\"http://www.w3.org/2000/svg\" height=\"24px\"viewBox=\"0 0 24 24\"\n",
              "       width=\"24px\">\n",
              "    <path d=\"M0 0h24v24H0V0z\" fill=\"none\"/>\n",
              "    <path d=\"M18.56 5.44l.94 2.06.94-2.06 2.06-.94-2.06-.94-.94-2.06-.94 2.06-2.06.94zm-11 1L8.5 8.5l.94-2.06 2.06-.94-2.06-.94L8.5 2.5l-.94 2.06-2.06.94zm10 10l.94 2.06.94-2.06 2.06-.94-2.06-.94-.94-2.06-.94 2.06-2.06.94z\"/><path d=\"M17.41 7.96l-1.37-1.37c-.4-.4-.92-.59-1.43-.59-.52 0-1.04.2-1.43.59L10.3 9.45l-7.72 7.72c-.78.78-.78 2.05 0 2.83L4 21.41c.39.39.9.59 1.41.59.51 0 1.02-.2 1.41-.59l7.78-7.78 2.81-2.81c.8-.78.8-2.07 0-2.86zM5.41 20L4 18.59l7.72-7.72 1.47 1.35L5.41 20z\"/>\n",
              "  </svg>\n",
              "      </button>\n",
              "      \n",
              "  <style>\n",
              "    .colab-df-container {\n",
              "      display:flex;\n",
              "      flex-wrap:wrap;\n",
              "      gap: 12px;\n",
              "    }\n",
              "\n",
              "    .colab-df-convert {\n",
              "      background-color: #E8F0FE;\n",
              "      border: none;\n",
              "      border-radius: 50%;\n",
              "      cursor: pointer;\n",
              "      display: none;\n",
              "      fill: #1967D2;\n",
              "      height: 32px;\n",
              "      padding: 0 0 0 0;\n",
              "      width: 32px;\n",
              "    }\n",
              "\n",
              "    .colab-df-convert:hover {\n",
              "      background-color: #E2EBFA;\n",
              "      box-shadow: 0px 1px 2px rgba(60, 64, 67, 0.3), 0px 1px 3px 1px rgba(60, 64, 67, 0.15);\n",
              "      fill: #174EA6;\n",
              "    }\n",
              "\n",
              "    [theme=dark] .colab-df-convert {\n",
              "      background-color: #3B4455;\n",
              "      fill: #D2E3FC;\n",
              "    }\n",
              "\n",
              "    [theme=dark] .colab-df-convert:hover {\n",
              "      background-color: #434B5C;\n",
              "      box-shadow: 0px 1px 3px 1px rgba(0, 0, 0, 0.15);\n",
              "      filter: drop-shadow(0px 1px 2px rgba(0, 0, 0, 0.3));\n",
              "      fill: #FFFFFF;\n",
              "    }\n",
              "  </style>\n",
              "\n",
              "      <script>\n",
              "        const buttonEl =\n",
              "          document.querySelector('#df-f945ef0f-f7e0-4c29-8aea-56cbb7e6c196 button.colab-df-convert');\n",
              "        buttonEl.style.display =\n",
              "          google.colab.kernel.accessAllowed ? 'block' : 'none';\n",
              "\n",
              "        async function convertToInteractive(key) {\n",
              "          const element = document.querySelector('#df-f945ef0f-f7e0-4c29-8aea-56cbb7e6c196');\n",
              "          const dataTable =\n",
              "            await google.colab.kernel.invokeFunction('convertToInteractive',\n",
              "                                                     [key], {});\n",
              "          if (!dataTable) return;\n",
              "\n",
              "          const docLinkHtml = 'Like what you see? Visit the ' +\n",
              "            '<a target=\"_blank\" href=https://colab.research.google.com/notebooks/data_table.ipynb>data table notebook</a>'\n",
              "            + ' to learn more about interactive tables.';\n",
              "          element.innerHTML = '';\n",
              "          dataTable['output_type'] = 'display_data';\n",
              "          await google.colab.output.renderOutput(dataTable, element);\n",
              "          const docLink = document.createElement('div');\n",
              "          docLink.innerHTML = docLinkHtml;\n",
              "          element.appendChild(docLink);\n",
              "        }\n",
              "      </script>\n",
              "    </div>\n",
              "  </div>\n",
              "  "
            ]
          },
          "metadata": {},
          "execution_count": 158
        }
      ]
    },
    {
      "cell_type": "code",
      "source": [
        "print('Tiempo Maximo de Servicio')\n",
        "descript.loc[['max'],['Time_of_service']]"
      ],
      "metadata": {
        "colab": {
          "base_uri": "https://localhost:8080/",
          "height": 99
        },
        "id": "SvFx9_ym69yR",
        "outputId": "0e3bf628-d54e-4179-f19a-824fc1910462"
      },
      "execution_count": 159,
      "outputs": [
        {
          "output_type": "stream",
          "name": "stdout",
          "text": [
            "Tiempo Maximo de Servicio\n"
          ]
        },
        {
          "output_type": "execute_result",
          "data": {
            "text/plain": [
              "     Time_of_service\n",
              "max             43.0"
            ],
            "text/html": [
              "\n",
              "  <div id=\"df-fca8e8e4-41ea-4ac8-84c8-cc319e43d29c\">\n",
              "    <div class=\"colab-df-container\">\n",
              "      <div>\n",
              "<style scoped>\n",
              "    .dataframe tbody tr th:only-of-type {\n",
              "        vertical-align: middle;\n",
              "    }\n",
              "\n",
              "    .dataframe tbody tr th {\n",
              "        vertical-align: top;\n",
              "    }\n",
              "\n",
              "    .dataframe thead th {\n",
              "        text-align: right;\n",
              "    }\n",
              "</style>\n",
              "<table border=\"1\" class=\"dataframe\">\n",
              "  <thead>\n",
              "    <tr style=\"text-align: right;\">\n",
              "      <th></th>\n",
              "      <th>Time_of_service</th>\n",
              "    </tr>\n",
              "  </thead>\n",
              "  <tbody>\n",
              "    <tr>\n",
              "      <th>max</th>\n",
              "      <td>43.0</td>\n",
              "    </tr>\n",
              "  </tbody>\n",
              "</table>\n",
              "</div>\n",
              "      <button class=\"colab-df-convert\" onclick=\"convertToInteractive('df-fca8e8e4-41ea-4ac8-84c8-cc319e43d29c')\"\n",
              "              title=\"Convert this dataframe to an interactive table.\"\n",
              "              style=\"display:none;\">\n",
              "        \n",
              "  <svg xmlns=\"http://www.w3.org/2000/svg\" height=\"24px\"viewBox=\"0 0 24 24\"\n",
              "       width=\"24px\">\n",
              "    <path d=\"M0 0h24v24H0V0z\" fill=\"none\"/>\n",
              "    <path d=\"M18.56 5.44l.94 2.06.94-2.06 2.06-.94-2.06-.94-.94-2.06-.94 2.06-2.06.94zm-11 1L8.5 8.5l.94-2.06 2.06-.94-2.06-.94L8.5 2.5l-.94 2.06-2.06.94zm10 10l.94 2.06.94-2.06 2.06-.94-2.06-.94-.94-2.06-.94 2.06-2.06.94z\"/><path d=\"M17.41 7.96l-1.37-1.37c-.4-.4-.92-.59-1.43-.59-.52 0-1.04.2-1.43.59L10.3 9.45l-7.72 7.72c-.78.78-.78 2.05 0 2.83L4 21.41c.39.39.9.59 1.41.59.51 0 1.02-.2 1.41-.59l7.78-7.78 2.81-2.81c.8-.78.8-2.07 0-2.86zM5.41 20L4 18.59l7.72-7.72 1.47 1.35L5.41 20z\"/>\n",
              "  </svg>\n",
              "      </button>\n",
              "      \n",
              "  <style>\n",
              "    .colab-df-container {\n",
              "      display:flex;\n",
              "      flex-wrap:wrap;\n",
              "      gap: 12px;\n",
              "    }\n",
              "\n",
              "    .colab-df-convert {\n",
              "      background-color: #E8F0FE;\n",
              "      border: none;\n",
              "      border-radius: 50%;\n",
              "      cursor: pointer;\n",
              "      display: none;\n",
              "      fill: #1967D2;\n",
              "      height: 32px;\n",
              "      padding: 0 0 0 0;\n",
              "      width: 32px;\n",
              "    }\n",
              "\n",
              "    .colab-df-convert:hover {\n",
              "      background-color: #E2EBFA;\n",
              "      box-shadow: 0px 1px 2px rgba(60, 64, 67, 0.3), 0px 1px 3px 1px rgba(60, 64, 67, 0.15);\n",
              "      fill: #174EA6;\n",
              "    }\n",
              "\n",
              "    [theme=dark] .colab-df-convert {\n",
              "      background-color: #3B4455;\n",
              "      fill: #D2E3FC;\n",
              "    }\n",
              "\n",
              "    [theme=dark] .colab-df-convert:hover {\n",
              "      background-color: #434B5C;\n",
              "      box-shadow: 0px 1px 3px 1px rgba(0, 0, 0, 0.15);\n",
              "      filter: drop-shadow(0px 1px 2px rgba(0, 0, 0, 0.3));\n",
              "      fill: #FFFFFF;\n",
              "    }\n",
              "  </style>\n",
              "\n",
              "      <script>\n",
              "        const buttonEl =\n",
              "          document.querySelector('#df-fca8e8e4-41ea-4ac8-84c8-cc319e43d29c button.colab-df-convert');\n",
              "        buttonEl.style.display =\n",
              "          google.colab.kernel.accessAllowed ? 'block' : 'none';\n",
              "\n",
              "        async function convertToInteractive(key) {\n",
              "          const element = document.querySelector('#df-fca8e8e4-41ea-4ac8-84c8-cc319e43d29c');\n",
              "          const dataTable =\n",
              "            await google.colab.kernel.invokeFunction('convertToInteractive',\n",
              "                                                     [key], {});\n",
              "          if (!dataTable) return;\n",
              "\n",
              "          const docLinkHtml = 'Like what you see? Visit the ' +\n",
              "            '<a target=\"_blank\" href=https://colab.research.google.com/notebooks/data_table.ipynb>data table notebook</a>'\n",
              "            + ' to learn more about interactive tables.';\n",
              "          element.innerHTML = '';\n",
              "          dataTable['output_type'] = 'display_data';\n",
              "          await google.colab.output.renderOutput(dataTable, element);\n",
              "          const docLink = document.createElement('div');\n",
              "          docLink.innerHTML = docLinkHtml;\n",
              "          element.appendChild(docLink);\n",
              "        }\n",
              "      </script>\n",
              "    </div>\n",
              "  </div>\n",
              "  "
            ]
          },
          "metadata": {},
          "execution_count": 159
        }
      ]
    },
    {
      "cell_type": "code",
      "source": [
        "print('Promedio de edad de los empleados encuestados')\n",
        "descript.loc[['mean'],['Age']]"
      ],
      "metadata": {
        "colab": {
          "base_uri": "https://localhost:8080/",
          "height": 99
        },
        "id": "jNddHr3c6-Kh",
        "outputId": "d34b2a64-be36-4303-e8fd-53467c8ed11d"
      },
      "execution_count": 160,
      "outputs": [
        {
          "output_type": "stream",
          "name": "stdout",
          "text": [
            "Promedio de edad de los empleados encuestados\n"
          ]
        },
        {
          "output_type": "execute_result",
          "data": {
            "text/plain": [
              "            Age\n",
              "mean  37.290714"
            ],
            "text/html": [
              "\n",
              "  <div id=\"df-4a68faa9-7954-439c-a444-3a05f7cca751\">\n",
              "    <div class=\"colab-df-container\">\n",
              "      <div>\n",
              "<style scoped>\n",
              "    .dataframe tbody tr th:only-of-type {\n",
              "        vertical-align: middle;\n",
              "    }\n",
              "\n",
              "    .dataframe tbody tr th {\n",
              "        vertical-align: top;\n",
              "    }\n",
              "\n",
              "    .dataframe thead th {\n",
              "        text-align: right;\n",
              "    }\n",
              "</style>\n",
              "<table border=\"1\" class=\"dataframe\">\n",
              "  <thead>\n",
              "    <tr style=\"text-align: right;\">\n",
              "      <th></th>\n",
              "      <th>Age</th>\n",
              "    </tr>\n",
              "  </thead>\n",
              "  <tbody>\n",
              "    <tr>\n",
              "      <th>mean</th>\n",
              "      <td>37.290714</td>\n",
              "    </tr>\n",
              "  </tbody>\n",
              "</table>\n",
              "</div>\n",
              "      <button class=\"colab-df-convert\" onclick=\"convertToInteractive('df-4a68faa9-7954-439c-a444-3a05f7cca751')\"\n",
              "              title=\"Convert this dataframe to an interactive table.\"\n",
              "              style=\"display:none;\">\n",
              "        \n",
              "  <svg xmlns=\"http://www.w3.org/2000/svg\" height=\"24px\"viewBox=\"0 0 24 24\"\n",
              "       width=\"24px\">\n",
              "    <path d=\"M0 0h24v24H0V0z\" fill=\"none\"/>\n",
              "    <path d=\"M18.56 5.44l.94 2.06.94-2.06 2.06-.94-2.06-.94-.94-2.06-.94 2.06-2.06.94zm-11 1L8.5 8.5l.94-2.06 2.06-.94-2.06-.94L8.5 2.5l-.94 2.06-2.06.94zm10 10l.94 2.06.94-2.06 2.06-.94-2.06-.94-.94-2.06-.94 2.06-2.06.94z\"/><path d=\"M17.41 7.96l-1.37-1.37c-.4-.4-.92-.59-1.43-.59-.52 0-1.04.2-1.43.59L10.3 9.45l-7.72 7.72c-.78.78-.78 2.05 0 2.83L4 21.41c.39.39.9.59 1.41.59.51 0 1.02-.2 1.41-.59l7.78-7.78 2.81-2.81c.8-.78.8-2.07 0-2.86zM5.41 20L4 18.59l7.72-7.72 1.47 1.35L5.41 20z\"/>\n",
              "  </svg>\n",
              "      </button>\n",
              "      \n",
              "  <style>\n",
              "    .colab-df-container {\n",
              "      display:flex;\n",
              "      flex-wrap:wrap;\n",
              "      gap: 12px;\n",
              "    }\n",
              "\n",
              "    .colab-df-convert {\n",
              "      background-color: #E8F0FE;\n",
              "      border: none;\n",
              "      border-radius: 50%;\n",
              "      cursor: pointer;\n",
              "      display: none;\n",
              "      fill: #1967D2;\n",
              "      height: 32px;\n",
              "      padding: 0 0 0 0;\n",
              "      width: 32px;\n",
              "    }\n",
              "\n",
              "    .colab-df-convert:hover {\n",
              "      background-color: #E2EBFA;\n",
              "      box-shadow: 0px 1px 2px rgba(60, 64, 67, 0.3), 0px 1px 3px 1px rgba(60, 64, 67, 0.15);\n",
              "      fill: #174EA6;\n",
              "    }\n",
              "\n",
              "    [theme=dark] .colab-df-convert {\n",
              "      background-color: #3B4455;\n",
              "      fill: #D2E3FC;\n",
              "    }\n",
              "\n",
              "    [theme=dark] .colab-df-convert:hover {\n",
              "      background-color: #434B5C;\n",
              "      box-shadow: 0px 1px 3px 1px rgba(0, 0, 0, 0.15);\n",
              "      filter: drop-shadow(0px 1px 2px rgba(0, 0, 0, 0.3));\n",
              "      fill: #FFFFFF;\n",
              "    }\n",
              "  </style>\n",
              "\n",
              "      <script>\n",
              "        const buttonEl =\n",
              "          document.querySelector('#df-4a68faa9-7954-439c-a444-3a05f7cca751 button.colab-df-convert');\n",
              "        buttonEl.style.display =\n",
              "          google.colab.kernel.accessAllowed ? 'block' : 'none';\n",
              "\n",
              "        async function convertToInteractive(key) {\n",
              "          const element = document.querySelector('#df-4a68faa9-7954-439c-a444-3a05f7cca751');\n",
              "          const dataTable =\n",
              "            await google.colab.kernel.invokeFunction('convertToInteractive',\n",
              "                                                     [key], {});\n",
              "          if (!dataTable) return;\n",
              "\n",
              "          const docLinkHtml = 'Like what you see? Visit the ' +\n",
              "            '<a target=\"_blank\" href=https://colab.research.google.com/notebooks/data_table.ipynb>data table notebook</a>'\n",
              "            + ' to learn more about interactive tables.';\n",
              "          element.innerHTML = '';\n",
              "          dataTable['output_type'] = 'display_data';\n",
              "          await google.colab.output.renderOutput(dataTable, element);\n",
              "          const docLink = document.createElement('div');\n",
              "          docLink.innerHTML = docLinkHtml;\n",
              "          element.appendChild(docLink);\n",
              "        }\n",
              "      </script>\n",
              "    </div>\n",
              "  </div>\n",
              "  "
            ]
          },
          "metadata": {},
          "execution_count": 160
        }
      ]
    },
    {
      "cell_type": "code",
      "source": [
        "print('Valor del 1er cuartil en la escala de pago')\n",
        "descript.loc[['25%'],['Pay_Scale']]"
      ],
      "metadata": {
        "colab": {
          "base_uri": "https://localhost:8080/",
          "height": 99
        },
        "id": "nm6ZRi3B6_Jx",
        "outputId": "b4900a9b-1225-4754-c81c-1a15bfbee75d"
      },
      "execution_count": 161,
      "outputs": [
        {
          "output_type": "stream",
          "name": "stdout",
          "text": [
            "Valor del 1er cuartil en la escala de pago\n"
          ]
        },
        {
          "output_type": "execute_result",
          "data": {
            "text/plain": [
              "     Pay_Scale\n",
              "25%        5.0"
            ],
            "text/html": [
              "\n",
              "  <div id=\"df-1ba11dbb-9bd9-4a81-bbb6-9bb8cac7283e\">\n",
              "    <div class=\"colab-df-container\">\n",
              "      <div>\n",
              "<style scoped>\n",
              "    .dataframe tbody tr th:only-of-type {\n",
              "        vertical-align: middle;\n",
              "    }\n",
              "\n",
              "    .dataframe tbody tr th {\n",
              "        vertical-align: top;\n",
              "    }\n",
              "\n",
              "    .dataframe thead th {\n",
              "        text-align: right;\n",
              "    }\n",
              "</style>\n",
              "<table border=\"1\" class=\"dataframe\">\n",
              "  <thead>\n",
              "    <tr style=\"text-align: right;\">\n",
              "      <th></th>\n",
              "      <th>Pay_Scale</th>\n",
              "    </tr>\n",
              "  </thead>\n",
              "  <tbody>\n",
              "    <tr>\n",
              "      <th>25%</th>\n",
              "      <td>5.0</td>\n",
              "    </tr>\n",
              "  </tbody>\n",
              "</table>\n",
              "</div>\n",
              "      <button class=\"colab-df-convert\" onclick=\"convertToInteractive('df-1ba11dbb-9bd9-4a81-bbb6-9bb8cac7283e')\"\n",
              "              title=\"Convert this dataframe to an interactive table.\"\n",
              "              style=\"display:none;\">\n",
              "        \n",
              "  <svg xmlns=\"http://www.w3.org/2000/svg\" height=\"24px\"viewBox=\"0 0 24 24\"\n",
              "       width=\"24px\">\n",
              "    <path d=\"M0 0h24v24H0V0z\" fill=\"none\"/>\n",
              "    <path d=\"M18.56 5.44l.94 2.06.94-2.06 2.06-.94-2.06-.94-.94-2.06-.94 2.06-2.06.94zm-11 1L8.5 8.5l.94-2.06 2.06-.94-2.06-.94L8.5 2.5l-.94 2.06-2.06.94zm10 10l.94 2.06.94-2.06 2.06-.94-2.06-.94-.94-2.06-.94 2.06-2.06.94z\"/><path d=\"M17.41 7.96l-1.37-1.37c-.4-.4-.92-.59-1.43-.59-.52 0-1.04.2-1.43.59L10.3 9.45l-7.72 7.72c-.78.78-.78 2.05 0 2.83L4 21.41c.39.39.9.59 1.41.59.51 0 1.02-.2 1.41-.59l7.78-7.78 2.81-2.81c.8-.78.8-2.07 0-2.86zM5.41 20L4 18.59l7.72-7.72 1.47 1.35L5.41 20z\"/>\n",
              "  </svg>\n",
              "      </button>\n",
              "      \n",
              "  <style>\n",
              "    .colab-df-container {\n",
              "      display:flex;\n",
              "      flex-wrap:wrap;\n",
              "      gap: 12px;\n",
              "    }\n",
              "\n",
              "    .colab-df-convert {\n",
              "      background-color: #E8F0FE;\n",
              "      border: none;\n",
              "      border-radius: 50%;\n",
              "      cursor: pointer;\n",
              "      display: none;\n",
              "      fill: #1967D2;\n",
              "      height: 32px;\n",
              "      padding: 0 0 0 0;\n",
              "      width: 32px;\n",
              "    }\n",
              "\n",
              "    .colab-df-convert:hover {\n",
              "      background-color: #E2EBFA;\n",
              "      box-shadow: 0px 1px 2px rgba(60, 64, 67, 0.3), 0px 1px 3px 1px rgba(60, 64, 67, 0.15);\n",
              "      fill: #174EA6;\n",
              "    }\n",
              "\n",
              "    [theme=dark] .colab-df-convert {\n",
              "      background-color: #3B4455;\n",
              "      fill: #D2E3FC;\n",
              "    }\n",
              "\n",
              "    [theme=dark] .colab-df-convert:hover {\n",
              "      background-color: #434B5C;\n",
              "      box-shadow: 0px 1px 3px 1px rgba(0, 0, 0, 0.15);\n",
              "      filter: drop-shadow(0px 1px 2px rgba(0, 0, 0, 0.3));\n",
              "      fill: #FFFFFF;\n",
              "    }\n",
              "  </style>\n",
              "\n",
              "      <script>\n",
              "        const buttonEl =\n",
              "          document.querySelector('#df-1ba11dbb-9bd9-4a81-bbb6-9bb8cac7283e button.colab-df-convert');\n",
              "        buttonEl.style.display =\n",
              "          google.colab.kernel.accessAllowed ? 'block' : 'none';\n",
              "\n",
              "        async function convertToInteractive(key) {\n",
              "          const element = document.querySelector('#df-1ba11dbb-9bd9-4a81-bbb6-9bb8cac7283e');\n",
              "          const dataTable =\n",
              "            await google.colab.kernel.invokeFunction('convertToInteractive',\n",
              "                                                     [key], {});\n",
              "          if (!dataTable) return;\n",
              "\n",
              "          const docLinkHtml = 'Like what you see? Visit the ' +\n",
              "            '<a target=\"_blank\" href=https://colab.research.google.com/notebooks/data_table.ipynb>data table notebook</a>'\n",
              "            + ' to learn more about interactive tables.';\n",
              "          element.innerHTML = '';\n",
              "          dataTable['output_type'] = 'display_data';\n",
              "          await google.colab.output.renderOutput(dataTable, element);\n",
              "          const docLink = document.createElement('div');\n",
              "          docLink.innerHTML = docLinkHtml;\n",
              "          element.appendChild(docLink);\n",
              "        }\n",
              "      </script>\n",
              "    </div>\n",
              "  </div>\n",
              "  "
            ]
          },
          "metadata": {},
          "execution_count": 161
        }
      ]
    },
    {
      "cell_type": "markdown",
      "metadata": {
        "id": "3bqgvGGeKirp"
      },
      "source": [
        "9.\tConstruye un gráfico de frecuencias (o conteo) para las unidades funcionales (`Unit`). ¿En qué unidad hay mayor número de empleados?"
      ]
    },
    {
      "cell_type": "code",
      "metadata": {
        "id": "EK1IKLX4N9An",
        "colab": {
          "base_uri": "https://localhost:8080/",
          "height": 452
        },
        "outputId": "b900649d-9418-46fb-a686-1c832a68422f"
      },
      "source": [
        "graph1 = df_employees[['Unit']].value_counts()\n",
        "graph1.plot(kind = 'bar')"
      ],
      "execution_count": 162,
      "outputs": [
        {
          "output_type": "execute_result",
          "data": {
            "text/plain": [
              "<matplotlib.axes._subplots.AxesSubplot at 0x7f0d9644e050>"
            ]
          },
          "metadata": {},
          "execution_count": 162
        },
        {
          "output_type": "display_data",
          "data": {
            "text/plain": [
              "<Figure size 432x288 with 1 Axes>"
            ],
            "image/png": "[encoded data removed]"
          },
          "metadata": {
            "needs_background": "light"
          }
        }
      ]
    },
    {
      "cell_type": "code",
      "source": [
        "print(\"La unidad con mayor numero de empleados es IT\")"
      ],
      "metadata": {
        "colab": {
          "base_uri": "https://localhost:8080/"
        },
        "id": "RAU0X6jz-OJ5",
        "outputId": "1e37813b-390c-44dc-da07-c449a499c5de"
      },
      "execution_count": 163,
      "outputs": [
        {
          "output_type": "stream",
          "name": "stdout",
          "text": [
            "La unidad con mayor numero de empleados es IT\n"
          ]
        }
      ]
    },
    {
      "cell_type": "markdown",
      "metadata": {
        "id": "TaP9NbRFKmtY"
      },
      "source": [
        "10.\tRealiza una agrupación por ciudad, con el promedio de todas las columnas y almacena el resultado en un nuevo dataframe (`employees_by_hometown`). "
      ]
    },
    {
      "cell_type": "code",
      "source": [
        "df_employees.columns"
      ],
      "metadata": {
        "colab": {
          "base_uri": "https://localhost:8080/"
        },
        "id": "-xUDtgo3-4ka",
        "outputId": "e4ff751b-e928-4f8b-ceb8-dd48f16da2aa"
      },
      "execution_count": 164,
      "outputs": [
        {
          "output_type": "execute_result",
          "data": {
            "text/plain": [
              "Index(['Employee_ID', 'Gender', 'Age', 'Education_Level',\n",
              "       'Relationship_Status', 'Hometown', 'Unit', 'Decision_skill_possess',\n",
              "       'Time_of_service', 'Time_since_promotion', 'growth_rate', 'Travel_Rate',\n",
              "       'Post_Level', 'Pay_Scale', 'Compensation_and_Benefits',\n",
              "       'Work_Life_balance', 'Attrition_rate'],\n",
              "      dtype='object')"
            ]
          },
          "metadata": {},
          "execution_count": 164
        }
      ]
    },
    {
      "cell_type": "code",
      "metadata": {
        "id": "j9geOA6NN9im",
        "colab": {
          "base_uri": "https://localhost:8080/",
          "height": 237
        },
        "outputId": "ebb061db-36f6-4325-e74a-ae4c5c8a9e07"
      },
      "source": [
        "employees_by_hometown = df_employees.groupby(['Hometown']).mean()\n",
        "employees_by_hometown\n"
      ],
      "execution_count": 189,
      "outputs": [
        {
          "output_type": "execute_result",
          "data": {
            "text/plain": [
              "                   Age  Education_Level  Time_of_service  \\\n",
              "Hometown                                                   \n",
              "Clinton      36.447788         3.166372        12.601770   \n",
              "Franklin     37.355220         3.187131        13.515430   \n",
              "Lebanon      37.902415         3.215459        13.442029   \n",
              "Springfield  36.930876         3.168203        12.793203   \n",
              "Washington   37.052441         3.179024        12.685353   \n",
              "\n",
              "             Time_since_promotion  growth_rate  Travel_Rate  Post_Level  \\\n",
              "Hometown                                                                  \n",
              "Clinton                  2.315044    47.334513     0.858407    2.775221   \n",
              "Franklin                 2.369665    47.018385     0.826001    2.774787   \n",
              "Lebanon                  2.363768    46.544444     0.800000    2.800966   \n",
              "Springfield              2.376152    47.099654     0.822005    2.813364   \n",
              "Washington               2.382459    47.906872     0.812839    2.811935   \n",
              "\n",
              "             Pay_Scale  Work_Life_balance  Attrition_rate  \n",
              "Hometown                                                   \n",
              "Clinton       6.023009           2.463717        0.188464  \n",
              "Franklin      5.997374           2.397242        0.187901  \n",
              "Lebanon       5.982126           2.368599        0.187019  \n",
              "Springfield   6.061060           2.387097        0.194084  \n",
              "Washington    5.920434           2.349910        0.188895  "
            ],
            "text/html": [
              "\n",
              "  <div id=\"df-8dfe1392-6ad6-44d7-93b2-f13cc6efb871\">\n",
              "    <div class=\"colab-df-container\">\n",
              "      <div>\n",
              "<style scoped>\n",
              "    .dataframe tbody tr th:only-of-type {\n",
              "        vertical-align: middle;\n",
              "    }\n",
              "\n",
              "    .dataframe tbody tr th {\n",
              "        vertical-align: top;\n",
              "    }\n",
              "\n",
              "    .dataframe thead th {\n",
              "        text-align: right;\n",
              "    }\n",
              "</style>\n",
              "<table border=\"1\" class=\"dataframe\">\n",
              "  <thead>\n",
              "    <tr style=\"text-align: right;\">\n",
              "      <th></th>\n",
              "      <th>Age</th>\n",
              "      <th>Education_Level</th>\n",
              "      <th>Time_of_service</th>\n",
              "      <th>Time_since_promotion</th>\n",
              "      <th>growth_rate</th>\n",
              "      <th>Travel_Rate</th>\n",
              "      <th>Post_Level</th>\n",
              "      <th>Pay_Scale</th>\n",
              "      <th>Work_Life_balance</th>\n",
              "      <th>Attrition_rate</th>\n",
              "    </tr>\n",
              "    <tr>\n",
              "      <th>Hometown</th>\n",
              "      <th></th>\n",
              "      <th></th>\n",
              "      <th></th>\n",
              "      <th></th>\n",
              "      <th></th>\n",
              "      <th></th>\n",
              "      <th></th>\n",
              "      <th></th>\n",
              "      <th></th>\n",
              "      <th></th>\n",
              "    </tr>\n",
              "  </thead>\n",
              "  <tbody>\n",
              "    <tr>\n",
              "      <th>Clinton</th>\n",
              "      <td>36.447788</td>\n",
              "      <td>3.166372</td>\n",
              "      <td>12.601770</td>\n",
              "      <td>2.315044</td>\n",
              "      <td>47.334513</td>\n",
              "      <td>0.858407</td>\n",
              "      <td>2.775221</td>\n",
              "      <td>6.023009</td>\n",
              "      <td>2.463717</td>\n",
              "      <td>0.188464</td>\n",
              "    </tr>\n",
              "    <tr>\n",
              "      <th>Franklin</th>\n",
              "      <td>37.355220</td>\n",
              "      <td>3.187131</td>\n",
              "      <td>13.515430</td>\n",
              "      <td>2.369665</td>\n",
              "      <td>47.018385</td>\n",
              "      <td>0.826001</td>\n",
              "      <td>2.774787</td>\n",
              "      <td>5.997374</td>\n",
              "      <td>2.397242</td>\n",
              "      <td>0.187901</td>\n",
              "    </tr>\n",
              "    <tr>\n",
              "      <th>Lebanon</th>\n",
              "      <td>37.902415</td>\n",
              "      <td>3.215459</td>\n",
              "      <td>13.442029</td>\n",
              "      <td>2.363768</td>\n",
              "      <td>46.544444</td>\n",
              "      <td>0.800000</td>\n",
              "      <td>2.800966</td>\n",
              "      <td>5.982126</td>\n",
              "      <td>2.368599</td>\n",
              "      <td>0.187019</td>\n",
              "    </tr>\n",
              "    <tr>\n",
              "      <th>Springfield</th>\n",
              "      <td>36.930876</td>\n",
              "      <td>3.168203</td>\n",
              "      <td>12.793203</td>\n",
              "      <td>2.376152</td>\n",
              "      <td>47.099654</td>\n",
              "      <td>0.822005</td>\n",
              "      <td>2.813364</td>\n",
              "      <td>6.061060</td>\n",
              "      <td>2.387097</td>\n",
              "      <td>0.194084</td>\n",
              "    </tr>\n",
              "    <tr>\n",
              "      <th>Washington</th>\n",
              "      <td>37.052441</td>\n",
              "      <td>3.179024</td>\n",
              "      <td>12.685353</td>\n",
              "      <td>2.382459</td>\n",
              "      <td>47.906872</td>\n",
              "      <td>0.812839</td>\n",
              "      <td>2.811935</td>\n",
              "      <td>5.920434</td>\n",
              "      <td>2.349910</td>\n",
              "      <td>0.188895</td>\n",
              "    </tr>\n",
              "  </tbody>\n",
              "</table>\n",
              "</div>\n",
              "      <button class=\"colab-df-convert\" onclick=\"convertToInteractive('df-8dfe1392-6ad6-44d7-93b2-f13cc6efb871')\"\n",
              "              title=\"Convert this dataframe to an interactive table.\"\n",
              "              style=\"display:none;\">\n",
              "        \n",
              "  <svg xmlns=\"http://www.w3.org/2000/svg\" height=\"24px\"viewBox=\"0 0 24 24\"\n",
              "       width=\"24px\">\n",
              "    <path d=\"M0 0h24v24H0V0z\" fill=\"none\"/>\n",
              "    <path d=\"M18.56 5.44l.94 2.06.94-2.06 2.06-.94-2.06-.94-.94-2.06-.94 2.06-2.06.94zm-11 1L8.5 8.5l.94-2.06 2.06-.94-2.06-.94L8.5 2.5l-.94 2.06-2.06.94zm10 10l.94 2.06.94-2.06 2.06-.94-2.06-.94-.94-2.06-.94 2.06-2.06.94z\"/><path d=\"M17.41 7.96l-1.37-1.37c-.4-.4-.92-.59-1.43-.59-.52 0-1.04.2-1.43.59L10.3 9.45l-7.72 7.72c-.78.78-.78 2.05 0 2.83L4 21.41c.39.39.9.59 1.41.59.51 0 1.02-.2 1.41-.59l7.78-7.78 2.81-2.81c.8-.78.8-2.07 0-2.86zM5.41 20L4 18.59l7.72-7.72 1.47 1.35L5.41 20z\"/>\n",
              "  </svg>\n",
              "      </button>\n",
              "      \n",
              "  <style>\n",
              "    .colab-df-container {\n",
              "      display:flex;\n",
              "      flex-wrap:wrap;\n",
              "      gap: 12px;\n",
              "    }\n",
              "\n",
              "    .colab-df-convert {\n",
              "      background-color: #E8F0FE;\n",
              "      border: none;\n",
              "      border-radius: 50%;\n",
              "      cursor: pointer;\n",
              "      display: none;\n",
              "      fill: #1967D2;\n",
              "      height: 32px;\n",
              "      padding: 0 0 0 0;\n",
              "      width: 32px;\n",
              "    }\n",
              "\n",
              "    .colab-df-convert:hover {\n",
              "      background-color: #E2EBFA;\n",
              "      box-shadow: 0px 1px 2px rgba(60, 64, 67, 0.3), 0px 1px 3px 1px rgba(60, 64, 67, 0.15);\n",
              "      fill: #174EA6;\n",
              "    }\n",
              "\n",
              "    [theme=dark] .colab-df-convert {\n",
              "      background-color: #3B4455;\n",
              "      fill: #D2E3FC;\n",
              "    }\n",
              "\n",
              "    [theme=dark] .colab-df-convert:hover {\n",
              "      background-color: #434B5C;\n",
              "      box-shadow: 0px 1px 3px 1px rgba(0, 0, 0, 0.15);\n",
              "      filter: drop-shadow(0px 1px 2px rgba(0, 0, 0, 0.3));\n",
              "      fill: #FFFFFF;\n",
              "    }\n",
              "  </style>\n",
              "\n",
              "      <script>\n",
              "        const buttonEl =\n",
              "          document.querySelector('#df-8dfe1392-6ad6-44d7-93b2-f13cc6efb871 button.colab-df-convert');\n",
              "        buttonEl.style.display =\n",
              "          google.colab.kernel.accessAllowed ? 'block' : 'none';\n",
              "\n",
              "        async function convertToInteractive(key) {\n",
              "          const element = document.querySelector('#df-8dfe1392-6ad6-44d7-93b2-f13cc6efb871');\n",
              "          const dataTable =\n",
              "            await google.colab.kernel.invokeFunction('convertToInteractive',\n",
              "                                                     [key], {});\n",
              "          if (!dataTable) return;\n",
              "\n",
              "          const docLinkHtml = 'Like what you see? Visit the ' +\n",
              "            '<a target=\"_blank\" href=https://colab.research.google.com/notebooks/data_table.ipynb>data table notebook</a>'\n",
              "            + ' to learn more about interactive tables.';\n",
              "          element.innerHTML = '';\n",
              "          dataTable['output_type'] = 'display_data';\n",
              "          await google.colab.output.renderOutput(dataTable, element);\n",
              "          const docLink = document.createElement('div');\n",
              "          docLink.innerHTML = docLinkHtml;\n",
              "          element.appendChild(docLink);\n",
              "        }\n",
              "      </script>\n",
              "    </div>\n",
              "  </div>\n",
              "  "
            ]
          },
          "metadata": {},
          "execution_count": 189
        }
      ]
    },
    {
      "cell_type": "markdown",
      "metadata": {
        "id": "fpQeusJcRg-A"
      },
      "source": [
        "11.\tVisualiza el dataframe obtenido en una única gráfica (usando Pandas: `employees_by_hometown.plot()`). Como no es legible por la diferencia de escalas en las columnas, sepáralas en subplots. ¿Qué ciudad tiene el mayor índice de deserción? Observa el resto de sus variables"
      ]
    },
    {
      "cell_type": "code",
      "metadata": {
        "id": "IlDu7cBIRk60",
        "colab": {
          "base_uri": "https://localhost:8080/",
          "height": 349
        },
        "outputId": "4fc07024-a194-49a6-c456-a1a725e2c33a"
      },
      "source": [
        "employees_by_hometown.plot(kind = 'bar')"
      ],
      "execution_count": 171,
      "outputs": [
        {
          "output_type": "execute_result",
          "data": {
            "text/plain": [
              "<matplotlib.axes._subplots.AxesSubplot at 0x7f0d961e3bd0>"
            ]
          },
          "metadata": {},
          "execution_count": 171
        },
        {
          "output_type": "display_data",
          "data": {
            "text/plain": [
              "<Figure size 432x288 with 1 Axes>"
            ],
            "image/png": "[encoded data removed]"
          },
          "metadata": {
            "needs_background": "light"
          }
        }
      ]
    },
    {
      "cell_type": "code",
      "source": [
        "# ebh_clinton = df_employees[(df_employees['Hometown']=='Clinton')].mean()\n",
        "# ebh_clinton.plot(kind='pie',autopct='%.2f',rotatelabels=True,figsize=(10,10)) es la unica forma que encontre para poner etiquetas a los valores de cada columna. No relevante para la entrega, si para el repaso. "
      ],
      "metadata": {
        "colab": {
          "base_uri": "https://localhost:8080/",
          "height": 668
        },
        "id": "SLAgzjDGPT6z",
        "outputId": "69772e17-55df-434d-a92b-c020d55c69b2"
      },
      "execution_count": 226,
      "outputs": [
        {
          "output_type": "stream",
          "name": "stderr",
          "text": [
            "/usr/local/lib/python3.7/dist-packages/ipykernel_launcher.py:1: FutureWarning: Dropping of nuisance columns in DataFrame reductions (with 'numeric_only=None') is deprecated; in a future version this will raise TypeError.  Select only valid columns before calling the reduction.\n",
            "  \"\"\"Entry point for launching an IPython kernel.\n"
          ]
        },
        {
          "output_type": "execute_result",
          "data": {
            "text/plain": [
              "<matplotlib.axes._subplots.AxesSubplot at 0x7f0d9146c350>"
            ]
          },
          "metadata": {},
          "execution_count": 226
        },
        {
          "output_type": "display_data",
          "data": {
            "text/plain": [
              "<Figure size 720x720 with 1 Axes>"
            ],
            "image/png": "[encoded data removed]"
          },
          "metadata": {}
        }
      ]
    },
    {
      "cell_type": "code",
      "source": [
        "ebh_franklin = df_employees[(df_employees['Hometown']=='Franklin')].mean()"
      ],
      "metadata": {
        "colab": {
          "base_uri": "https://localhost:8080/"
        },
        "id": "SVgqsrGKPTy7",
        "outputId": "c4d2d318-1b70-48df-c543-5ae836482f3a"
      },
      "execution_count": 242,
      "outputs": [
        {
          "output_type": "stream",
          "name": "stderr",
          "text": [
            "/usr/local/lib/python3.7/dist-packages/ipykernel_launcher.py:1: FutureWarning: Dropping of nuisance columns in DataFrame reductions (with 'numeric_only=None') is deprecated; in a future version this will raise TypeError.  Select only valid columns before calling the reduction.\n",
            "  \"\"\"Entry point for launching an IPython kernel.\n"
          ]
        }
      ]
    },
    {
      "cell_type": "code",
      "source": [
        "ebh_lebanon = df_employees[(df_employees['Hometown']=='Lebanon')].mean()"
      ],
      "metadata": {
        "colab": {
          "base_uri": "https://localhost:8080/"
        },
        "id": "5Eu5UNQVPTmr",
        "outputId": "fd2d6f0d-90cf-49d2-e552-9d267fe57970"
      },
      "execution_count": 205,
      "outputs": [
        {
          "output_type": "stream",
          "name": "stderr",
          "text": [
            "/usr/local/lib/python3.7/dist-packages/ipykernel_launcher.py:1: FutureWarning: Dropping of nuisance columns in DataFrame reductions (with 'numeric_only=None') is deprecated; in a future version this will raise TypeError.  Select only valid columns before calling the reduction.\n",
            "  \"\"\"Entry point for launching an IPython kernel.\n"
          ]
        }
      ]
    },
    {
      "cell_type": "code",
      "source": [
        "ebh_springfield = df_employees[(df_employees['Hometown']=='Springfield')].mean()"
      ],
      "metadata": {
        "colab": {
          "base_uri": "https://localhost:8080/"
        },
        "id": "7_Ki362ZPTaj",
        "outputId": "9a69ee55-50c9-4265-d0cd-98b48cf8373d"
      },
      "execution_count": 204,
      "outputs": [
        {
          "output_type": "stream",
          "name": "stderr",
          "text": [
            "/usr/local/lib/python3.7/dist-packages/ipykernel_launcher.py:1: FutureWarning: Dropping of nuisance columns in DataFrame reductions (with 'numeric_only=None') is deprecated; in a future version this will raise TypeError.  Select only valid columns before calling the reduction.\n",
            "  \"\"\"Entry point for launching an IPython kernel.\n"
          ]
        }
      ]
    },
    {
      "cell_type": "code",
      "source": [
        "ebh_washington = df_employees[(df_employees['Hometown']=='Washington')].mean()"
      ],
      "metadata": {
        "colab": {
          "base_uri": "https://localhost:8080/"
        },
        "id": "elT2wNXYPSsr",
        "outputId": "90162505-b173-4b89-e516-20ffb61658e1"
      },
      "execution_count": 203,
      "outputs": [
        {
          "output_type": "stream",
          "name": "stderr",
          "text": [
            "/usr/local/lib/python3.7/dist-packages/ipykernel_launcher.py:1: FutureWarning: Dropping of nuisance columns in DataFrame reductions (with 'numeric_only=None') is deprecated; in a future version this will raise TypeError.  Select only valid columns before calling the reduction.\n",
            "  \"\"\"Entry point for launching an IPython kernel.\n"
          ]
        }
      ]
    },
    {
      "cell_type": "code",
      "source": [
        "fig, axs = plt.subplots(2,3,figsize=(25,15))\n",
        "plt.subplots_adjust(hspace=0.5)\n",
        "\n",
        "ebh_clinton.plot(kind = 'bar',title='Clinton',ax=axs[0,0])\n",
        "ebh_franklin.plot(kind = 'bar',title='Franklin',ax=axs[0,1])\n",
        "ebh_lebanon.plot(kind = 'bar',title='Lebanon',ax=axs[0,2])\n",
        "ebh_springfield.plot(kind = 'bar',title='Springfield',ax=axs[1,0])\n",
        "ebh_washington.plot(kind = 'bar',title='Washington',ax=axs[1,1])"
      ],
      "metadata": {
        "colab": {
          "base_uri": "https://localhost:8080/",
          "height": 999
        },
        "id": "6Q0iZGwwBuj6",
        "outputId": "aa2c8201-0c2a-4413-dcd4-5a8a43ad716e"
      },
      "execution_count": 208,
      "outputs": [
        {
          "output_type": "execute_result",
          "data": {
            "text/plain": [
              "<matplotlib.axes._subplots.AxesSubplot at 0x7f0d909f3e50>"
            ]
          },
          "metadata": {},
          "execution_count": 208
        },
        {
          "output_type": "display_data",
          "data": {
            "text/plain": [
              "<Figure size 1800x1080 with 6 Axes>"
            ],
            "image/png": "[encoded data removed]"
          },
          "metadata": {
            "needs_background": "light"
          }
        }
      ]
    },
    {
      "cell_type": "code",
      "source": [
        "att_rate = employees_by_hometown[['Attrition_rate']].sort_values('Attrition_rate',ascending=False)\n",
        "# att_rate.sort_values('Attrition_rate',ascending=False)\n",
        "att_rate.plot(kind='bar',figsize=(10,10))\n",
        "print('La taza de deserción mas alta es para Springfield')\n"
      ],
      "metadata": {
        "colab": {
          "base_uri": "https://localhost:8080/",
          "height": 672
        },
        "id": "uVVoZi-xUU22",
        "outputId": "271257ea-e4d1-43b9-a69d-ed5ddadaac84"
      },
      "execution_count": 241,
      "outputs": [
        {
          "output_type": "execute_result",
          "data": {
            "text/plain": [
              "<matplotlib.axes._subplots.AxesSubplot at 0x7f0d90258290>"
            ]
          },
          "metadata": {},
          "execution_count": 241
        },
        {
          "output_type": "display_data",
          "data": {
            "text/plain": [
              "<Figure size 720x720 with 1 Axes>"
            ],
            "image/png": "[encoded data removed]"
          },
          "metadata": {
            "needs_background": "light"
          }
        }
      ]
    },
    {
      "cell_type": "markdown",
      "source": [
        ""
      ],
      "metadata": {
        "id": "qG4O3bfkv4du"
      }
    },
    {
      "cell_type": "markdown",
      "metadata": {
        "id": "DB273mmtKwII"
      },
      "source": [
        "12.\tUtiliza el dataframe original (sin los NaN) para analizar el impacto del nivel educativo en la escala de pago. Para ello construye un box plot que considere estas dos variables."
      ]
    },
    {
      "cell_type": "code",
      "metadata": {
        "id": "Wk9WdN12N-QB",
        "colab": {
          "base_uri": "https://localhost:8080/"
        },
        "outputId": "b56fe97e-3c23-4695-b5e0-ab69587a9146"
      },
      "source": [
        "df_employees.columns"
      ],
      "execution_count": 243,
      "outputs": [
        {
          "output_type": "execute_result",
          "data": {
            "text/plain": [
              "Index(['Employee_ID', 'Gender', 'Age', 'Education_Level',\n",
              "       'Relationship_Status', 'Hometown', 'Unit', 'Decision_skill_possess',\n",
              "       'Time_of_service', 'Time_since_promotion', 'growth_rate', 'Travel_Rate',\n",
              "       'Post_Level', 'Pay_Scale', 'Compensation_and_Benefits',\n",
              "       'Work_Life_balance', 'Attrition_rate'],\n",
              "      dtype='object')"
            ]
          },
          "metadata": {},
          "execution_count": 243
        }
      ]
    },
    {
      "cell_type": "code",
      "source": [
        "sns.boxplot(x=df_employees['Education_Level'],y=df_employees['Pay_Scale'])\n",
        "plt.xticks(rotation=90)\n"
      ],
      "metadata": {
        "colab": {
          "base_uri": "https://localhost:8080/",
          "height": 295
        },
        "id": "SNqJQ01-wnq_",
        "outputId": "a8cfa83c-224e-4d46-bf08-4b175de9bab0"
      },
      "execution_count": 244,
      "outputs": [
        {
          "output_type": "execute_result",
          "data": {
            "text/plain": [
              "(array([0, 1, 2, 3, 4]), <a list of 5 Text major ticklabel objects>)"
            ]
          },
          "metadata": {},
          "execution_count": 244
        },
        {
          "output_type": "display_data",
          "data": {
            "text/plain": [
              "<Figure size 432x288 with 1 Axes>"
            ],
            "image/png": "[encoded data removed]"
          },
          "metadata": {
            "needs_background": "light"
          }
        }
      ]
    },
    {
      "cell_type": "markdown",
      "metadata": {
        "id": "RPbrYdeZKzuP"
      },
      "source": [
        "13.\tElabora dos scatter plots (del dataframe original sin NaN) para determinar si hay correlación entre:\n",
        "*   Edad y Tasa de deserción\n",
        "*   Tiempo de servicio y Tasa de deserción"
      ]
    },
    {
      "cell_type": "code",
      "metadata": {
        "id": "YGv3iQWPN-xE",
        "colab": {
          "base_uri": "https://localhost:8080/",
          "height": 301
        },
        "outputId": "a32e77a7-5379-492b-84c2-7abf3a961442"
      },
      "source": [
        "#Edad y Tasa de deserción\n",
        "\n",
        "df_employees.plot.scatter(x='Age',y='Attrition_rate', ylim= (0,1.2))"
      ],
      "execution_count": 254,
      "outputs": [
        {
          "output_type": "execute_result",
          "data": {
            "text/plain": [
              "<matplotlib.axes._subplots.AxesSubplot at 0x7f0d8fe40110>"
            ]
          },
          "metadata": {},
          "execution_count": 254
        },
        {
          "output_type": "display_data",
          "data": {
            "text/plain": [
              "<Figure size 432x288 with 1 Axes>"
            ],
            "image/png": "[encoded data removed]"
          },
          "metadata": {
            "needs_background": "light"
          }
        }
      ]
    },
    {
      "cell_type": "code",
      "source": [
        "#Tiempo de servicio y Tasa de deserción\n",
        "\n",
        "df_employees.plot.scatter(x='Time_of_service',y='Attrition_rate', ylim= (0,1.2))"
      ],
      "metadata": {
        "colab": {
          "base_uri": "https://localhost:8080/",
          "height": 302
        },
        "id": "aj-x55B51_g3",
        "outputId": "0af2fa57-1b8b-47ec-813a-4cbddf5ca06a"
      },
      "execution_count": 255,
      "outputs": [
        {
          "output_type": "execute_result",
          "data": {
            "text/plain": [
              "<matplotlib.axes._subplots.AxesSubplot at 0x7f0d8fe1fa50>"
            ]
          },
          "metadata": {},
          "execution_count": 255
        },
        {
          "output_type": "display_data",
          "data": {
            "text/plain": [
              "<Figure size 432x288 with 1 Axes>"
            ],
            "image/png": "[encoded data removed]"
          },
          "metadata": {
            "needs_background": "light"
          }
        }
      ]
    },
    {
      "cell_type": "markdown",
      "metadata": {
        "id": "J1Vm81cdK9ih"
      },
      "source": [
        "14.\tCrea un heatmap  (del dataframe original sin NaN) que muestre la correlación entre todos los pares de variables numéricas. "
      ]
    },
    {
      "cell_type": "code",
      "metadata": {
        "id": "lteHebSrN_R1",
        "colab": {
          "base_uri": "https://localhost:8080/",
          "height": 389
        },
        "outputId": "308670b3-45e2-4d1d-ab70-9ac08f25e2ef"
      },
      "source": [
        "sns.heatmap(round(df_employees.corr(),2),annot=True)"
      ],
      "execution_count": 256,
      "outputs": [
        {
          "output_type": "execute_result",
          "data": {
            "text/plain": [
              "<matplotlib.axes._subplots.AxesSubplot at 0x7f0d8fd9c750>"
            ]
          },
          "metadata": {},
          "execution_count": 256
        },
        {
          "output_type": "display_data",
          "data": {
            "text/plain": [
              "<Figure size 432x288 with 2 Axes>"
            ],
            "image/png": "[encoded data removed]"
          },
          "metadata": {
            "needs_background": "light"
          }
        }
      ]
    }
  ]
}